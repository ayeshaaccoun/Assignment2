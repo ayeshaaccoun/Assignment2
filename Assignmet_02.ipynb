{
 "cells": [
  {
   "cell_type": "markdown",
   "metadata": {
    "id": "bb0O0xtk1v9t"
   },
   "source": [
    "## Task 01:\n",
    "\n",
    "Print Your Name with your Father name and Date of birth using suitable escape sequence charactor\n",
    "\n"
   ]
  },
  {
   "cell_type": "code",
   "execution_count": null,
   "metadata": {
    "id": "U7LLGIkO2Ixa"
   },
   "outputs": [],
   "source": [
    "print(\"My name is 'Ayesha Farooque' \\n My Father Name is 'Muhammad Farooque' \\n My date of birth is '28-06-2004'\")\n",
    "\n",
    "My name is 'Ayesha Farooque'\n",
    " My Father Name is 'Muhammad Farooque'\n",
    " My date of birth is '28-06-2004'\n"
   ]
  },
  {
   "cell_type": "markdown",
   "metadata": {
    "id": "TU-xwiLV2NgB"
   },
   "source": [
    "# Task 02:\n",
    "\n",
    "Write your small bio using variables and print it using print function"
   ]
  },
  {
   "cell_type": "code",
   "execution_count": null,
   "metadata": {
    "id": "Dw8w3rwl2wDB"
   },
   "outputs": [],
   "source": [
    "Ayesha = \"Ayesha Farooque is here. I am doing bachelors in computational Fianance from NED University of Engineering and Technology. I am also doing internship at intelliversal integrated solution\"\n",
    ">>> print(Ayesha)\n",
    "\n",
    "Ayesha Farooque is here. I am doing bachelors in computational Fianance from NED University of Engineering and Technology. I am also doing internship at intelliversal integrated solution\n"
   ]
  },
  {
   "cell_type": "markdown",
   "metadata": {
    "id": "F2lcZuDe2ztv"
   },
   "source": [
    "# Task 03:\n",
    "\n",
    "Write a program in which use all the operators we can use in Python"
   ]
  },
  {
   "cell_type": "code",
   "execution_count": null,
   "metadata": {
    "id": "lEJhzsXh3e7K"
   },
   "outputs": [],
   "source": [
    "x=20\n",
    "y=3\n",
    "z=x+y\n",
    "a=x-y\n",
    "b=x*y\n",
    "c=x/y\n",
    "d=x%y\n",
    "print(z)\n",
    "print(a)\n",
    "print(b)\n",
    "print(c)\n",
    "print(d)\n",
    "\n",
    "23\n",
    "17\n",
    "60\n",
    "6.666666666666667\n",
    "2\n"
   ]
  },
  {
   "cell_type": "markdown",
   "metadata": {
    "id": "i4N14TJU3l7n"
   },
   "source": [
    "# Task 04:\n",
    "\n",
    "\n",
    "1. Mention Marks of English , Islamiat and Maths out of 100 in 3 different variables\n",
    "\n",
    "2. Mention Variable of Total Marks and assign 300 to it\n",
    "\n",
    "3. Calculate Percentage"
   ]
  },
  {
   "cell_type": "code",
   "execution_count": null,
   "metadata": {
    "id": "nxojzvRg5PP4"
   },
   "outputs": [],
   "source": [
    "English=90\n",
    "Islamiat=95\n",
    "Maths=99\n",
    "Total_marks=300\n",
    "marks_obtained=285\n",
    "print(percentage)\n",
    "\n",
    "95.0\n"
   ]
  }
 ],
 "metadata": {
  "colab": {
   "provenance": []
  },
  "kernelspec": {
   "display_name": "Python 3 (ipykernel)",
   "language": "python",
   "name": "python3"
  },
  "language_info": {
   "codemirror_mode": {
    "name": "ipython",
    "version": 3
   },
   "file_extension": ".py",
   "mimetype": "text/x-python",
   "name": "python",
   "nbconvert_exporter": "python",
   "pygments_lexer": "ipython3",
   "version": "3.11.7"
  }
 },
 "nbformat": 4,
 "nbformat_minor": 4
}
