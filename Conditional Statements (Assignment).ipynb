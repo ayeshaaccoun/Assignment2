{
 "cells": [
  {
   "cell_type": "markdown",
   "metadata": {},
   "source": [
    "1) A company decided to give bonus of 5% to employee if his/her year of service is more than 5 years.\n",
    "Ask user for their salary and year of service and print the net bonus amount."
   ]
  },
  {
   "cell_type": "code",
   "execution_count": 6,
   "metadata": {},
   "outputs": [],
   "source": [
    "#Type your code here\n",
    "\n",
    "salary = int(input(\"Enter your Salary: \"))\n",
    "year_of_service = int(input(\"Enter your year of service: \"))\n",
    "if year_of_service > 5:\n",
    "    print(\"Bonus is: \" , 0.05*salary)\n",
    "else:\n",
    "    print(\"No bonus: \")\n",
    "\n",
    "Enter your Salary: 50000\n",
    "Enter your year of service: 8\n",
    "Bonus is:  2500.0\n",
    "\n"
   ]
  },
  {
   "cell_type": "markdown",
   "metadata": {},
   "source": [
    "\n",
    "2) Write a program to check whether a person is eligible for voting or not. (accept age from user) if age is greater than 17 eligible otherwise not eligible"
   ]
  },
  {
   "cell_type": "code",
   "execution_count": 7,
   "metadata": {},
   "outputs": [],
   "source": [
    "#Type your code here\n",
    "\n",
    "age = int(input(\"Enter your age: \"))\n",
    "if age > 17:\n",
    "    print(\"Eligible for voting\")\n",
    "else:\n",
    "    print(\"Note Eligible for voting\")\n",
    "\n",
    "Enter your age: 20\n",
    "Eligible for voting"
   ]
  },
  {
   "cell_type": "markdown",
   "metadata": {},
   "source": [
    "\n",
    "3) Write a program to check whether a number entered by user is even or odd."
   ]
  },
  {
   "cell_type": "code",
   "execution_count": 8,
   "metadata": {},
   "outputs": [],
   "source": [
    "#Type your code here\n",
    "\n",
    "number = int(input(\"Enter number: \"))\n",
    "if (number % 2) == 0:\n",
    "    print(\"Even Number\")\n",
    "else:\n",
    "    print(\"Odd number\")\n",
    "\n",
    "Enter number: 70\n",
    "Even Number"
   ]
  },
  {
   "cell_type": "markdown",
   "metadata": {},
   "source": [
    "4) Write a program to check whether a number is divisible by 7 or not.\n",
    "Show Answer"
   ]
  },
  {
   "cell_type": "code",
   "execution_count": 9,
   "metadata": {},
   "outputs": [],
   "source": [
    "#Type your code here\n",
    "\n",
    "num = int(input(\"Enter number: \"))\n",
    "if (num % 7) == 0:\n",
    "    print(num, \"is divisible by 7\")\n",
    "else:\n",
    "    print(num, \"is not divisible by 7\")\n",
    "\n",
    "Enter number: 77\n",
    "77 is divisible by 7"
   ]
  },
  {
   "cell_type": "markdown",
   "metadata": {},
   "source": [
    "5) Write a program to display \"Hello\" if a number entered by user is a multiple of five , otherwise print \"Bye\"."
   ]
  },
  {
   "cell_type": "code",
   "execution_count": 11,
   "metadata": {},
   "outputs": [],
   "source": [
    "#Type your code here\n",
    "\n",
    "number = int(input(\"Enter number: \"))\n",
    "if (number % 5) == 0:\n",
    "    print(\"Hello\")\n",
    "else:\n",
    "    print(\"Bye\")\n",
    "\n",
    "Enter number: 25\n",
    "Hello"
   ]
  },
  {
   "cell_type": "markdown",
   "metadata": {},
   "source": [
    "7) Write a program to display the last digit of a number.\n"
   ]
  },
  {
   "cell_type": "code",
   "execution_count": 12,
   "metadata": {},
   "outputs": [],
   "source": [
    "#Type your code here\n",
    "\n",
    "number = int(input(\"Enter number: \"))\n",
    "last_digit= number % 10\n",
    "print(\"last digit of number is\", last_digit)\n",
    "\n",
    "Enter number: 6788\n",
    "last digit of number is 8"
   ]
  },
  {
   "cell_type": "markdown",
   "metadata": {},
   "source": [
    "9) Take values of length and breadth of a rectangle from user and print if it is square or rectangle."
   ]
  },
  {
   "cell_type": "code",
   "execution_count": 14,
   "metadata": {},
   "outputs": [],
   "source": [
    "#Type your code here \n",
    "\n",
    "length = int(input(\"Enter length: \"))\n",
    "breadth = int(input(\"Enter breadth: \"))\n",
    "if length == breadth:\n",
    "    print(\"Square\")\n",
    "else:\n",
    "    print(\"Rectangle\")\n",
    "\n",
    "Enter length: 55\n",
    "Enter breadth: 55\n",
    "Square"
   ]
  },
  {
   "cell_type": "markdown",
   "metadata": {},
   "source": [
    "10) Take two int values from user and print greatest among them."
   ]
  },
  {
   "cell_type": "code",
   "execution_count": 15,
   "metadata": {},
   "outputs": [],
   "source": [
    "# Type your code here\n",
    "\n",
    "val1 = int(input(\"Enter first value: \"))\n",
    "val2 = int(input(\"Enter second value: \"))\n",
    "if val1 > val2:\n",
    "    print(val1, \"is greatest\")\n",
    "else:\n",
    "    print(val2, \"is greatest\")\n",
    "\n",
    "Enter first value: 67\n",
    "Enter second value: 87\n",
    "87 is greatest"
   ]
  },
  {
   "cell_type": "markdown",
   "metadata": {},
   "source": [
    "11) A shop will give discount of 10% if the cost of purchased quantity is more than 1000.\n",
    "Ask user for quantity\n",
    "Suppose, one unit will cost 100.\n",
    "Judge and print total cost for user."
   ]
  },
  {
   "cell_type": "code",
   "execution_count": 16,
   "metadata": {},
   "outputs": [],
   "source": [
    "#Type your code here\n",
    "\n",
    "cost = int(input(\"Enter cost of purchased quantity: \"))\n",
    "discount = (cost * 0.1)\n",
    "amount_after_discount = cost - discount\n",
    "if cost > 1000:\n",
    "    print(\"amount after discount is:\",  amount_after_discount)\n",
    "else:\n",
    "    print(\"No discount\")\n",
    "\n",
    "Enter cost of purchased quantity: 2000\n",
    "amount after discount is: 1800.0\n"
   ]
  },
  {
   "cell_type": "markdown",
   "metadata": {},
   "source": [
    "12) A school has following rules for grading system:\n",
    "\n",
    "a. Below 25 - F\n",
    "\n",
    "b. 25 to 45 - E\n",
    "\n",
    "c. 45 to 50 - D\n",
    "\n",
    "d. 50 to 60 - C\n",
    "\n",
    "e. 60 to 80 - B\n",
    "\n",
    "f. Above 80 - A\n",
    "\n",
    "Ask user to enter marks and print the corresponding grade."
   ]
  },
  {
   "cell_type": "code",
   "execution_count": 2,
   "metadata": {},
   "outputs": [],
   "source": [
    "#Type your code her\n",
    "\n",
    "marks = int(input(\"Enter marks: \"))\n",
    "if marks >= 80:\n",
    "    print(\"Grade 'A' \")\n",
    "elif marks >= 60:\n",
    "    print(\"Grade 'B' \")\n",
    "elif marks >= 50:\n",
    "    print(\"Grade 'C' \")\n",
    "elif marks >= 45:\n",
    "    print(\"Grade 'D' \")\n",
    "elif marks >= 25:\n",
    "    print(\"Grade 'E' \")\n",
    "else:\n",
    "    print(\"Fail\")\n",
    "\n",
    "Enter marks: 90\n",
    "Grade 'A' "
   ]
  },
  {
   "cell_type": "markdown",
   "metadata": {},
   "source": [
    "14)A student will not be allowed to sit in exam if his/her attendence is less than 75%.\n",
    "\n",
    "Take following input from user\n",
    "\n",
    "Number of classes held\n",
    "\n",
    "Number of classes attended.\n",
    "\n",
    "And print\n",
    "\n",
    "percentage of class attended\n",
    "\n",
    "Is student is allowed to sit in exam or not.\n"
   ]
  },
  {
   "cell_type": "code",
   "execution_count": 19,
   "metadata": {},
   "outputs": [],
   "source": [
    "#Type your code here\n",
    "\n",
    "class_held = int(input(\"Enter class held: \"))\n",
    "class_attended = int(input(\"Enter class attended: \"))\n",
    "Attendence = (class_attended / class_held)* 100\n",
    "print(\"Attendance is\", Attendence, \"%\")\n",
    "if Attendence > 75:\n",
    "    print(\"Allowed to sit in Exam:\")\n",
    "else:\n",
    "    print(\"Not Allowed to sit in Exam:\")\n",
    "\n",
    "Enter class held: 45\n",
    "Enter class attended: 42\n",
    "Attendance is 93.33333333333333 %\n",
    "Allowed to sit in Exam:"
   ]
  },
  {
   "cell_type": "markdown",
   "metadata": {},
   "source": [
    "15) Modify the above question to allow student to sit if he/she has medical cause. Ask user if he/she has medical cause or not ( 'Y' or 'N' ) and print accordingly."
   ]
  },
  {
   "cell_type": "code",
   "execution_count": 20,
   "metadata": {},
   "outputs": [],
   "source": [
    "#Type your code here\n",
    "\n",
    "class_held = int(input(\"Enter class held: \"))\n",
    "class_attended = int(input(\"Enter class attended: \"))\n",
    "Attendence = (class_attended / class_held)* 100\n",
    "print(\"Attendance is\", Attendence,\"%\")\n",
    "if Attendence > 75:\n",
    "    print(\"Allowed to sit in Exam:\")\n",
    "else:\n",
    "    print(\"Not Allowed: \")\n",
    "a =(input(\"Enter issue: \"))\n",
    "b = \"Medical issue\"\n",
    "if a == b:\n",
    "    print(\"Yes\")\n",
    "else:\n",
    "    print(\"No\")\n",
    "\n",
    "Enter class held: 45\n",
    "Enter class attended: 10\n",
    "Attendance is 22.22222222222222 %\n",
    "Not Allowed: \n",
    "Enter issue: Medical issue\n",
    "Yes\n"
   ]
  },
  {
   "cell_type": "markdown",
   "metadata": {},
   "source": [
    "16) Write a program to check if a year is leap year or not.\n",
    "\n",
    "If a year is divisible by 4 then it is leap year but if the year is century year like 2000, 1900, 2100 then it must be divisible by 400."
   ]
  },
  {
   "cell_type": "code",
   "execution_count": 21,
   "metadata": {},
   "outputs": [],
   "source": [
    "#Type your code here\n",
    "\n",
    "year = int(input(\"Enter year: \"))\n",
    "if year % 4 == 0:\n",
    "    print(year, \"is a leap year.\")\n",
    "else:\n",
    "    print(year, \"is not a leap year.\")\n",
    "if year % 400 == 0:\n",
    "    print(year, \"is a century leap year.\")\n",
    "else:\n",
    "    print(year, \"is not a century leap year.\")\n",
    "\n",
    "\n",
    "Enter year: 2400\n",
    "2400 is a leap year.\n",
    "2400 is a century leap year."
   ]
  },
  {
   "cell_type": "markdown",
   "metadata": {},
   "source": [
    "17) Ask user to enter age, gender ( M or F ), marital status ( Y or N ) and then using following rules print their place of service.\n",
    "\n",
    "if employee is female, then she will work only in urban areas.\n",
    "\n",
    "if employee is a male and age is in between 20 to 40 then he may work in anywhere\n",
    "\n",
    "if employee is male and age is in between 40 t0 60 then he will work in urban areas only.\n",
    "\n",
    "And any other input of age should print \"ERROR\""
   ]
  },
  {
   "cell_type": "code",
   "execution_count": 22,
   "metadata": {},
   "outputs": [],
   "source": [
    "#Type your code here\n",
    "\n",
    "age = int(input(\"Enter age: \"))\n",
    "gender = input(\"Enter gender: \")\n",
    "m = \"male\"\n",
    "f = \"female\"\n",
    "if gender == f:\n",
    "    print(\"she will work only in urban areas.\")\n",
    "if gender == m:\n",
    "    if (age >= 20) and (age < 40):\n",
    "        print(\"He may work in anywhere\")\n",
    "    elif (age >= 40) and (age < 60):\n",
    "        print(\"He will work only in urban areas\")\n",
    "    else:\n",
    "        (\"ERROR\")\n",
    "\n",
    "Enter age: 45\n",
    "Enter gender: male\n",
    "He will work only in urban areas"
   ]
  },
  {
   "cell_type": "code",
   "execution_count": null,
   "metadata": {},
   "outputs": [],
   "source": [
    "unit = int(input(\"Enter unit: \"))\n",
    "if unit <= 100:\n",
    "    print(\"No Charge\")\n",
    "elif (unit > 100)  and (unit < 200):\n",
    "    print(unit * 5)\n",
    "elif (unit > 200):\n",
    "    print(unit * 10)\n",
    "    \n",
    "Enter unit: 350\n",
    "3500\n"
   ]
  },
  {
   "cell_type": "markdown",
   "metadata": {},
   "source": [
    "6) Write a program to calculate the electricity bill (accept number of unit from user) according to the following criteria :\n",
    "     Unit                                                     Price  \n",
    "uptp 100 units                                             no charge\n",
    "Next 200 units                                              Rs 5 per unit\n",
    "After 200 units                                             Rs 10 per unit\n",
    "(For example if input unit is 350 than total bill amount is Rs.3500\n",
    "(For example if input unit is 97 than total bill amount is Rs.0\n",
    "(For example if input unit is 150 than total bill amount is Rs.750"
   ]
  },
  {
   "cell_type": "markdown",
   "metadata": {},
   "source": [
    "13) Take input of age of 3 people by user and determine oldest and youngest among them."
   ]
  },
  {
   "cell_type": "code",
   "execution_count": 18,
   "metadata": {},
   "outputs": [],
   "source": [
    "#Type your code here\n",
    "\n",
    "people1 =int(input(\"Enter age: \"))\n",
    "people2 =int(input(\"Enter age: \"))\n",
    "people3 =int(input(\"Enter age: \"))\n",
    "if people1 > people2 and people1 > people3:\n",
    "    print(people1, \"is oldest\")\n",
    "elif people2 > people1 and people2 > people3:\n",
    "    print(people2, \"is oldest\")\n",
    "else:\n",
    "    print(people3, \"is oldest\")\n",
    "if people1 < people2 and people1 < people3:\n",
    "    print(people1, \"is youngest\")\n",
    "elif people2 < people1 and people2 < people3:\n",
    "    print(people2, \"is youngest\")\n",
    "else:\n",
    "    print(people3, \"is youngest\")\n",
    "\n",
    "Enter age: 24\n",
    "Enter age: 20\n",
    "Enter age: 27\n",
    "27 is oldest\n",
    "20 is youngest"
   ]
  }
 ],
 "metadata": {
  "kernelspec": {
   "display_name": "Python 3 (ipykernel)",
   "language": "python",
   "name": "python3"
  },
  "language_info": {
   "codemirror_mode": {
    "name": "ipython",
    "version": 3
   },
   "file_extension": ".py",
   "mimetype": "text/x-python",
   "name": "python",
   "nbconvert_exporter": "python",
   "pygments_lexer": "ipython3",
   "version": "3.11.7"
  }
 },
 "nbformat": 4,
 "nbformat_minor": 4
}
